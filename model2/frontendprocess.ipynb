{
 "cells": [
  {
   "cell_type": "code",
   "execution_count": 8,
   "metadata": {},
   "outputs": [
    {
     "ename": "ModuleNotFoundError",
     "evalue": "No module named 'deepfake_detection_model'",
     "output_type": "error",
     "traceback": [
      "\u001b[1;31m---------------------------------------------------------------------------\u001b[0m",
      "\u001b[1;31mModuleNotFoundError\u001b[0m                       Traceback (most recent call last)",
      "\u001b[1;32md:\\AMITY UNIVERSITY\\PROJECT\\FInal Year Project\\FYP_Deepfake\\deepfake.ipynb Cell 1\u001b[0m line \u001b[0;36m3\n\u001b[0;32m      <a href='vscode-notebook-cell:/d%3A/AMITY%20UNIVERSITY/PROJECT/FInal%20Year%20Project/FYP_Deepfake/deepfake.ipynb#W0sZmlsZQ%3D%3D?line=0'>1</a>\u001b[0m \u001b[39mimport\u001b[39;00m \u001b[39mcv2\u001b[39;00m\n\u001b[0;32m      <a href='vscode-notebook-cell:/d%3A/AMITY%20UNIVERSITY/PROJECT/FInal%20Year%20Project/FYP_Deepfake/deepfake.ipynb#W0sZmlsZQ%3D%3D?line=1'>2</a>\u001b[0m \u001b[39mimport\u001b[39;00m \u001b[39mnumpy\u001b[39;00m \u001b[39mas\u001b[39;00m \u001b[39mnp\u001b[39;00m\n\u001b[1;32m----> <a href='vscode-notebook-cell:/d%3A/AMITY%20UNIVERSITY/PROJECT/FInal%20Year%20Project/FYP_Deepfake/deepfake.ipynb#W0sZmlsZQ%3D%3D?line=2'>3</a>\u001b[0m \u001b[39mfrom\u001b[39;00m \u001b[39mdeepfake_detection_model\u001b[39;00m \u001b[39mimport\u001b[39;00m DeepfakeDetector  \u001b[39m# Replace with the actual model\u001b[39;00m\n\u001b[0;32m      <a href='vscode-notebook-cell:/d%3A/AMITY%20UNIVERSITY/PROJECT/FInal%20Year%20Project/FYP_Deepfake/deepfake.ipynb#W0sZmlsZQ%3D%3D?line=4'>5</a>\u001b[0m \u001b[39m# Initialize the deepfake detection model\u001b[39;00m\n\u001b[0;32m      <a href='vscode-notebook-cell:/d%3A/AMITY%20UNIVERSITY/PROJECT/FInal%20Year%20Project/FYP_Deepfake/deepfake.ipynb#W0sZmlsZQ%3D%3D?line=5'>6</a>\u001b[0m detector \u001b[39m=\u001b[39m DeepfakeDetector()\n",
      "\u001b[1;31mModuleNotFoundError\u001b[0m: No module named 'deepfake_detection_model'"
     ]
    }
   ],
   "source": [
    "import cv2\n",
    "import numpy as np\n",
    "from deepfake_detection_model import DeepfakeDetector  # Replace with the actual model\n",
    "\n",
    "# Initialize the deepfake detection model\n",
    "detector = DeepfakeDetector()\n",
    "\n",
    "# Set the region to capture (adjust coordinates accordingly)\n",
    "region = (0, 0, 1920, 1080)\n",
    "\n",
    "# Open the video capture\n",
    "cap = cv2.VideoCapture(0)\n",
    "\n",
    "while True:\n",
    "    # Capture the screen within the specified region\n",
    "    ret, frame = cap.read()\n",
    "\n",
    "    # Preprocess the frame\n",
    "    # ...\n",
    "\n",
    "    # Feed the frame to the deepfake detection model\n",
    "    confidence_score = detector.predict(frame)\n",
    "\n",
    "    # Set a threshold for decision making\n",
    "    threshold = 0.8\n",
    "\n",
    "    # Display the frame\n",
    "    cv2.imshow('Live Video Feed', frame)\n",
    "\n",
    "    # Take further actions based on the model's predictions\n",
    "    if confidence_score > threshold:\n",
    "        print(\"Potential deepfake detected!\")\n",
    "\n",
    "    if cv2.waitKey(1) & 0xFF == ord('q'):\n",
    "        break\n",
    "\n",
    "# Release resources\n",
    "cap.release()\n",
    "cv2.destroyAllWindows()\n"
   ]
  }
 ],
 "metadata": {
  "kernelspec": {
   "display_name": "Python 3",
   "language": "python",
   "name": "python3"
  },
  "language_info": {
   "codemirror_mode": {
    "name": "ipython",
    "version": 3
   },
   "file_extension": ".py",
   "mimetype": "text/x-python",
   "name": "python",
   "nbconvert_exporter": "python",
   "pygments_lexer": "ipython3",
   "version": "3.11.6"
  }
 },
 "nbformat": 4,
 "nbformat_minor": 2
}
